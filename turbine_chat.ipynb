{
  "cells": [
    {
      "cell_type": "code",
      "execution_count": null,
      "metadata": {
        "colab": {
          "base_uri": "https://localhost:8080/"
        },
        "id": "TAYtZRsfhima",
        "outputId": "f5975f9e-0a4c-4fba-b7cf-d37a8bcc5c74"
      },
      "outputs": [
        {
          "output_type": "stream",
          "name": "stdout",
          "text": [
            "Requirement already satisfied: pandas in /usr/local/lib/python3.10/dist-packages (1.5.3)\n",
            "Requirement already satisfied: openpyxl in /usr/local/lib/python3.10/dist-packages (3.1.2)\n",
            "Requirement already satisfied: python-dateutil>=2.8.1 in /usr/local/lib/python3.10/dist-packages (from pandas) (2.8.2)\n",
            "Requirement already satisfied: pytz>=2020.1 in /usr/local/lib/python3.10/dist-packages (from pandas) (2023.3.post1)\n",
            "Requirement already satisfied: numpy>=1.21.0 in /usr/local/lib/python3.10/dist-packages (from pandas) (1.23.5)\n",
            "Requirement already satisfied: et-xmlfile in /usr/local/lib/python3.10/dist-packages (from openpyxl) (1.1.0)\n",
            "Requirement already satisfied: six>=1.5 in /usr/local/lib/python3.10/dist-packages (from python-dateutil>=2.8.1->pandas) (1.16.0)\n"
          ]
        }
      ],
      "source": [
        "pip install pandas openpyxl"
      ]
    },
    {
      "cell_type": "code",
      "execution_count": null,
      "metadata": {
        "colab": {
          "base_uri": "https://localhost:8080/"
        },
        "id": "OhrgFg78lQ2Y",
        "outputId": "7016b2de-4591-4ab4-e3c8-c586abfd84c8"
      },
      "outputs": [
        {
          "output_type": "stream",
          "name": "stdout",
          "text": [
            "Welcome to the Asset Information Chatbot!\n",
            "Please enter the AssetName (or 'exit' to quit): dje01\n",
            "Maximum Total_Count_Reason_Comment: 59\n",
            "Reason_Comments: blade 3: communication failure (slave master operational state guarding error).\n",
            "Maximum Total_Count_ActionTaken: 27\n",
            "Reason_ActionTaken: replaced communication cable ovp paenl sc 410 cabinet also checked harting connector hub cabinet\n",
            "Please enter the AssetName (or 'exit' to quit): dje03\n",
            "Maximum Total_Count_Reason_Comment: 93\n",
            "Reason_Comments: tower-vibration (acceleration peak-to-peak value) drivetrain direction error limit\n",
            "Maximum Total_Count_ActionTaken: 58\n",
            "Reason_ActionTaken: wtg reset restored\n",
            "Please enter the AssetName (or 'exit' to quit): exit\n",
            "Thankyou!\n"
          ]
        }
      ],
      "source": [
        "import pandas as pd\n",
        "df = pd.read_excel('/content/Book1 (2).xlsx')\n",
        "def find_max_reason_comment(asset_name):\n",
        "    filtered_df = df[df['AssetName'] == asset_name]\n",
        "    max_total_count_reason_comment = filtered_df['Total_Count_Reason_Comment'].max()\n",
        "    reason_comments = filtered_df[filtered_df['Total_Count_Reason_Comment'] == max_total_count_reason_comment]['Reason_Comments'].values[0]\n",
        "    return max_total_count_reason_comment, reason_comments\n",
        "def find_max_action_taken(asset_name):\n",
        "    filtered_df = df[df['AssetName'] == asset_name]\n",
        "    max_total_count_action_taken = filtered_df['Total_Count_ActionTaken'].max()\n",
        "    reason_action_taken = filtered_df[filtered_df['Total_Count_ActionTaken'] == max_total_count_action_taken]['Reason_ActionTaken'].values[0]\n",
        "    return max_total_count_action_taken, reason_action_taken\n",
        "def chatbot():\n",
        "    print(\"Welcome to the Asset Information Chatbot!\")\n",
        "\n",
        "    while True:\n",
        "        asset_name = input(\"Please enter the AssetName (or 'exit' to quit): \")\n",
        "\n",
        "        if asset_name.lower() == 'exit':\n",
        "            print(\"Thankyou!\")\n",
        "            break\n",
        "\n",
        "        if asset_name not in df['AssetName'].values:\n",
        "            print(\"AssetName not found\")\n",
        "        else:\n",
        "            max_count_reason_comment, reason_comments = find_max_reason_comment(asset_name)\n",
        "            max_count_action_taken, reason_action_taken = find_max_action_taken(asset_name)\n",
        "\n",
        "            print(f\"Maximum Total_Count_Reason_Comment: {max_count_reason_comment}\")\n",
        "            print(f\"Reason_Comments: {reason_comments}\")\n",
        "            print(f\"Maximum Total_Count_ActionTaken: {max_count_action_taken}\")\n",
        "            print(f\"Reason_ActionTaken: {reason_action_taken}\")\n",
        "if __name__ == \"__main__\":\n",
        "    chatbot()"
      ]
    }
  ],
  "metadata": {
    "colab": {
      "provenance": []
    },
    "kernelspec": {
      "display_name": "Python 3",
      "name": "python3"
    },
    "language_info": {
      "name": "python"
    }
  },
  "nbformat": 4,
  "nbformat_minor": 0
}